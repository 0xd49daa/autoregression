{
 "cells": [
  {
   "cell_type": "code",
   "execution_count": null,
   "id": "5d9d425c-c7e4-4abf-9218-d87cefdeb964",
   "metadata": {},
   "outputs": [],
   "source": [
    "import scipy.io as sio\n",
    "import numpy as np\n",
    "from matplotlib import pyplot as plt"
   ]
  },
  {
   "cell_type": "code",
   "execution_count": null,
   "id": "233424dc-ad28-45f3-8403-e67b4d43bf01",
   "metadata": {},
   "outputs": [],
   "source": [
    "mat_data = sio.loadmat('data/S02_restingPre_EC.mat')\n",
    "SRATE = 256"
   ]
  },
  {
   "cell_type": "code",
   "execution_count": null,
   "id": "14c93890-01a6-4c96-8d17-8d90f3a4f415",
   "metadata": {},
   "outputs": [],
   "source": [
    "mat_data['dataRest'].shape"
   ]
  },
  {
   "cell_type": "code",
   "execution_count": null,
   "id": "8b599313-4e91-476f-b9d4-358c480a92a4",
   "metadata": {},
   "outputs": [],
   "source": [
    "Fp1 = mat_data['dataRest'][0, 1000:]\n",
    "Fp1"
   ]
  },
  {
   "cell_type": "code",
   "execution_count": null,
   "id": "b4dd24d8-2a29-480d-aa6e-ee843ce92361",
   "metadata": {},
   "outputs": [],
   "source": [
    "Fp1.shape"
   ]
  },
  {
   "cell_type": "code",
   "execution_count": null,
   "id": "696ed157-bd0b-46eb-afc1-7f606785ad85",
   "metadata": {},
   "outputs": [],
   "source": [
    "x = np.arange(Fp1.shape[0]) / SRATE\n",
    "x"
   ]
  },
  {
   "cell_type": "code",
   "execution_count": null,
   "id": "379bf571-2b34-46aa-b513-584c70da1475",
   "metadata": {},
   "outputs": [],
   "source": [
    "plt.plot(x, Fp1)\n",
    "plt.xlabel('Time (s)')"
   ]
  },
  {
   "cell_type": "code",
   "execution_count": null,
   "id": "c8de3972-2735-425d-b029-7ee509ca04f8",
   "metadata": {},
   "outputs": [],
   "source": [
    "AF7 = mat_data['dataRest'][1, 1000:]\n",
    "AF7\n",
    "plt.plot(x, AF7)\n",
    "plt.xlabel('Time (s)')"
   ]
  },
  {
   "cell_type": "code",
   "execution_count": null,
   "id": "29fb94fb-8c36-44bb-a9a8-4e9f61cc2a39",
   "metadata": {},
   "outputs": [],
   "source": [
    "order = 14"
   ]
  },
  {
   "cell_type": "code",
   "execution_count": null,
   "id": "da133999-49bc-44e7-ad6c-722ad7d36644",
   "metadata": {},
   "outputs": [],
   "source": [
    "data = Fp1"
   ]
  },
  {
   "cell_type": "code",
   "execution_count": null,
   "id": "ada3a133-ff65-4f89-9a01-33dda0fa6fc8",
   "metadata": {},
   "outputs": [],
   "source": [
    "from statsmodels.tsa.ar_model import AutoReg"
   ]
  },
  {
   "cell_type": "code",
   "execution_count": null,
   "id": "4f8e3f31-837a-4b5d-a45b-199e61db0d34",
   "metadata": {},
   "outputs": [],
   "source": [
    "data.shape"
   ]
  },
  {
   "cell_type": "code",
   "execution_count": null,
   "id": "1af3fdce-be11-4dec-a2fa-6edca04f82ad",
   "metadata": {},
   "outputs": [],
   "source": [
    "model = AutoReg(data, lags=order)"
   ]
  },
  {
   "cell_type": "code",
   "execution_count": null,
   "id": "d72fa894-0ef5-4f13-929e-04f9bc0ef725",
   "metadata": {},
   "outputs": [],
   "source": [
    "res = model.fit()"
   ]
  },
  {
   "cell_type": "code",
   "execution_count": null,
   "id": "e97c1dbe-49fc-4afa-a909-9528ba9806bd",
   "metadata": {},
   "outputs": [],
   "source": [
    "res.params"
   ]
  },
  {
   "cell_type": "code",
   "execution_count": null,
   "id": "bc9f0184-3daf-42e4-9f8c-d5fa1ba81bcd",
   "metadata": {},
   "outputs": [],
   "source": [
    "res.scale"
   ]
  },
  {
   "cell_type": "code",
   "execution_count": null,
   "id": "b0a6a56b-c9f0-4756-aa5f-eb0e3dec195e",
   "metadata": {},
   "outputs": [],
   "source": [
    "predicted = np.ones(data.shape[0])\n",
    "\n",
    "predicted[0: order] = data[0: order]\n",
    "\n",
    "for i in range(order + 1, data.shape[0]):\n",
    "    predicted[i] = np.dot(data[ (i - order):i ], res.params[0: order]) "
   ]
  },
  {
   "cell_type": "code",
   "execution_count": null,
   "id": "72be61e4-941e-418d-b4a9-ff6e3689d6d5",
   "metadata": {},
   "outputs": [],
   "source": [
    "plt.plot(x[100:], predicted[100:])\n",
    "plt.xlabel('Time (s)')"
   ]
  },
  {
   "cell_type": "code",
   "execution_count": null,
   "id": "0184cd0b-8c45-4454-8e16-84ddeb3c2d88",
   "metadata": {},
   "outputs": [],
   "source": [
    "plt.plot(x[100:], Fp1[100:])\n",
    "plt.xlabel('Time (s)')"
   ]
  },
  {
   "cell_type": "code",
   "execution_count": null,
   "id": "cddb551a-ada1-4907-b289-53e203e39d84",
   "metadata": {},
   "outputs": [],
   "source": []
  }
 ],
 "metadata": {
  "kernelspec": {
   "display_name": "Python 3 (ipykernel)",
   "language": "python",
   "name": "python3"
  },
  "language_info": {
   "codemirror_mode": {
    "name": "ipython",
    "version": 3
   },
   "file_extension": ".py",
   "mimetype": "text/x-python",
   "name": "python",
   "nbconvert_exporter": "python",
   "pygments_lexer": "ipython3",
   "version": "3.9.7"
  }
 },
 "nbformat": 4,
 "nbformat_minor": 5
}
